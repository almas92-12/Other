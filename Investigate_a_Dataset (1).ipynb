{
 "cells": [
  {
   "cell_type": "markdown",
   "metadata": {},
   "source": [
    "\n",
    "\n",
    "# Project: Investigate relationship between players physical characteristics and  speed using Soccer Database\n",
    "\n",
    "## Table of Contents\n",
    "<ul>\n",
    "<li><a href=\"#intro\">Introduction</a></li>\n",
    "<li><a href=\"#wrangling\">Data Wrangling</a></li>\n",
    "<li><a href=\"#eda\">Exploratory Data Analysis</a></li>\n",
    "<li><a href=\"#conclusions\">Conclusions</a></li>\n",
    "</ul>"
   ]
  },
  {
   "cell_type": "markdown",
   "metadata": {},
   "source": [
    "<a id='intro'></a>\n",
    "## Introduction\n",
    "\n",
    "> The focus of this project is to investigate the relationship between player physical attributes, preferred foot, age (18-35) and speed, using data from Soccer Database. \n",
    "As it was suggested in the Data Set Options Set, the original database was accessed using DB Browser, but the SQL queries will be shown here to give better understanding to the reader. The original database consist of 7 table storing data related to football matches, teams, leagues and players for the period from 2008 to 2016. Considering that this project is focused on players speed and its relationship with other attributes, only two tables will be relevant for this research - \"Player\" and \"Player_Attributes\".\n",
    "\n",
    "- The first question this research will address is: how does speed changes with age for players between 18-35. Is there a correlation between these 2 attributes? \n",
    "- Do the same patterns of speed evolution with age hold for different weight and height categories?\n",
    "- Could weight be a good predictor of expected speed?\n",
    "- Is there a particular height which associated with slower/faster players?\n",
    "- Is there significant speed difference depending on preferred foot?"
   ]
  },
  {
   "cell_type": "code",
   "execution_count": 1,
   "metadata": {},
   "outputs": [],
   "source": [
    "# Use this cell to set up import statements for all of the packages that you\n",
    "import pandas as pd\n",
    "import numpy as np\n",
    "import matplotlib.pyplot as plt\n",
    "plt.figure(figsize=(20,5))\n",
    "%matplotlib inline\n",
    "import seaborn as sns\n",
    "import sqlite3"
   ]
  },
  {
   "cell_type": "markdown",
   "metadata": {},
   "source": [
    "<a id='wrangling'></a>\n",
    "## Data Wrangling\n",
    "\n",
    "As it was suggested in the Data Set Options Set, the original database was accessed using DB Browser, but the SQL queries will be shown here to give better understanding to the reader. The original database consist of 7 table storing data related to football matches, teams, leagues and players for the period from 2008 to 2016. Considering that this project is focused on players speed and its relationship with other attributes, only two tables will be relevant for this research - \"Player\" and \"Player_Attributes\".\n",
    "\n",
    "Table \"Player_Attributes\" contains data recorded chronologically from 2007 to 2016 for players who were active in observed 11 Leagues. The data in this table pertains to players characteristics and ratings, e.g. overall, rating, finishing ability, acceleration, sprint speed etc. There are also key columns containing player_api_id, player_fifa_api_id, which will be used to related data with other tables. Column \"date\" represents date when ratings were recorded.\n",
    "\n",
    "Table \"Player\" store data regarding birthday, height and weight of the player.\n",
    "\n",
    "### General Properties"
   ]
  },
  {
   "cell_type": "markdown",
   "metadata": {},
   "source": [
    "#### First glance on available tables"
   ]
  },
  {
   "cell_type": "code",
   "execution_count": 2,
   "metadata": {},
   "outputs": [
    {
     "data": {
      "text/html": [
       "<div>\n",
       "<style scoped>\n",
       "    .dataframe tbody tr th:only-of-type {\n",
       "        vertical-align: middle;\n",
       "    }\n",
       "\n",
       "    .dataframe tbody tr th {\n",
       "        vertical-align: top;\n",
       "    }\n",
       "\n",
       "    .dataframe thead th {\n",
       "        text-align: right;\n",
       "    }\n",
       "</style>\n",
       "<table border=\"1\" class=\"dataframe\">\n",
       "  <thead>\n",
       "    <tr style=\"text-align: right;\">\n",
       "      <th></th>\n",
       "      <th>name</th>\n",
       "    </tr>\n",
       "  </thead>\n",
       "  <tbody>\n",
       "    <tr>\n",
       "      <th>0</th>\n",
       "      <td>sqlite_sequence</td>\n",
       "    </tr>\n",
       "    <tr>\n",
       "      <th>1</th>\n",
       "      <td>Player_Attributes</td>\n",
       "    </tr>\n",
       "    <tr>\n",
       "      <th>2</th>\n",
       "      <td>Player</td>\n",
       "    </tr>\n",
       "    <tr>\n",
       "      <th>3</th>\n",
       "      <td>Match</td>\n",
       "    </tr>\n",
       "    <tr>\n",
       "      <th>4</th>\n",
       "      <td>League</td>\n",
       "    </tr>\n",
       "    <tr>\n",
       "      <th>5</th>\n",
       "      <td>Country</td>\n",
       "    </tr>\n",
       "    <tr>\n",
       "      <th>6</th>\n",
       "      <td>Team</td>\n",
       "    </tr>\n",
       "    <tr>\n",
       "      <th>7</th>\n",
       "      <td>Team_Attributes</td>\n",
       "    </tr>\n",
       "  </tbody>\n",
       "</table>\n",
       "</div>"
      ],
      "text/plain": [
       "                name\n",
       "0    sqlite_sequence\n",
       "1  Player_Attributes\n",
       "2             Player\n",
       "3              Match\n",
       "4             League\n",
       "5            Country\n",
       "6               Team\n",
       "7    Team_Attributes"
      ]
     },
     "execution_count": 2,
     "metadata": {},
     "output_type": "execute_result"
    }
   ],
   "source": [
    "con = sqlite3.connect('database.sqlite')\n",
    "query = \"SELECT name FROM sqlite_master WHERE type='table';\"\n",
    "pd.read_sql(query, con)"
   ]
  },
  {
   "cell_type": "markdown",
   "metadata": {},
   "source": [
    "#### This is to check what columns can be useful for further analysis. \n",
    "Considering the nature of questions - birthday, height and weight from player table are required to complete the research. \n",
    "\n",
    "There are 4 relevant columns in player_attributes table:\n",
    "- date (which is according to kaggle description, the date when data was recorded)\n",
    "- acceleration\n",
    "- sprint_speed\n",
    "- preferred _foot"
   ]
  },
  {
   "cell_type": "code",
   "execution_count": 3,
   "metadata": {},
   "outputs": [],
   "source": [
    "def check_columns(x):\n",
    "    for i,v in enumerate(x.columns):\n",
    "        print(i,v)"
   ]
  },
  {
   "cell_type": "code",
   "execution_count": 4,
   "metadata": {},
   "outputs": [],
   "source": [
    "player = pd.read_sql_query('Select * FROM Player', con)\n",
    "player_attributes = pd.read_sql_query('Select * FROM player_attributes', con)"
   ]
  },
  {
   "cell_type": "code",
   "execution_count": 5,
   "metadata": {},
   "outputs": [
    {
     "name": "stdout",
     "output_type": "stream",
     "text": [
      "0 id\n",
      "1 player_fifa_api_id\n",
      "2 player_api_id\n",
      "3 date\n",
      "4 overall_rating\n",
      "5 potential\n",
      "6 preferred_foot\n",
      "7 attacking_work_rate\n",
      "8 defensive_work_rate\n",
      "9 crossing\n",
      "10 finishing\n",
      "11 heading_accuracy\n",
      "12 short_passing\n",
      "13 volleys\n",
      "14 dribbling\n",
      "15 curve\n",
      "16 free_kick_accuracy\n",
      "17 long_passing\n",
      "18 ball_control\n",
      "19 acceleration\n",
      "20 sprint_speed\n",
      "21 agility\n",
      "22 reactions\n",
      "23 balance\n",
      "24 shot_power\n",
      "25 jumping\n",
      "26 stamina\n",
      "27 strength\n",
      "28 long_shots\n",
      "29 aggression\n",
      "30 interceptions\n",
      "31 positioning\n",
      "32 vision\n",
      "33 penalties\n",
      "34 marking\n",
      "35 standing_tackle\n",
      "36 sliding_tackle\n",
      "37 gk_diving\n",
      "38 gk_handling\n",
      "39 gk_kicking\n",
      "40 gk_positioning\n",
      "41 gk_reflexes\n",
      "0 id\n",
      "1 player_api_id\n",
      "2 player_name\n",
      "3 player_fifa_api_id\n",
      "4 birthday\n",
      "5 height\n",
      "6 weight\n"
     ]
    }
   ],
   "source": [
    "check_columns(player_attributes)\n",
    "\n",
    "check_columns(player)"
   ]
  },
  {
   "cell_type": "markdown",
   "metadata": {},
   "source": [
    "#### Creating a Dataframe for the investigation\n",
    "First, we will combine data from two tables to create df with required columns to answer set questions\n",
    "The info required for this research is stored in two tables - Player_Attributes and Player."
   ]
  },
  {
   "cell_type": "code",
   "execution_count": 6,
   "metadata": {},
   "outputs": [
    {
     "data": {
      "text/html": [
       "<div>\n",
       "<style scoped>\n",
       "    .dataframe tbody tr th:only-of-type {\n",
       "        vertical-align: middle;\n",
       "    }\n",
       "\n",
       "    .dataframe tbody tr th {\n",
       "        vertical-align: top;\n",
       "    }\n",
       "\n",
       "    .dataframe thead th {\n",
       "        text-align: right;\n",
       "    }\n",
       "</style>\n",
       "<table border=\"1\" class=\"dataframe\">\n",
       "  <thead>\n",
       "    <tr style=\"text-align: right;\">\n",
       "      <th></th>\n",
       "      <th>player_api_id</th>\n",
       "      <th>height</th>\n",
       "      <th>weight</th>\n",
       "      <th>birthday</th>\n",
       "      <th>date</th>\n",
       "      <th>preferred_foot</th>\n",
       "      <th>acceleration</th>\n",
       "      <th>sprint_speed</th>\n",
       "    </tr>\n",
       "  </thead>\n",
       "  <tbody>\n",
       "    <tr>\n",
       "      <th>0</th>\n",
       "      <td>505942</td>\n",
       "      <td>182.88</td>\n",
       "      <td>187</td>\n",
       "      <td>1992-02-29 00:00:00</td>\n",
       "      <td>2016-02-18 00:00:00</td>\n",
       "      <td>right</td>\n",
       "      <td>60.0</td>\n",
       "      <td>64.0</td>\n",
       "    </tr>\n",
       "    <tr>\n",
       "      <th>1</th>\n",
       "      <td>505942</td>\n",
       "      <td>182.88</td>\n",
       "      <td>187</td>\n",
       "      <td>1992-02-29 00:00:00</td>\n",
       "      <td>2015-11-19 00:00:00</td>\n",
       "      <td>right</td>\n",
       "      <td>60.0</td>\n",
       "      <td>64.0</td>\n",
       "    </tr>\n",
       "  </tbody>\n",
       "</table>\n",
       "</div>"
      ],
      "text/plain": [
       "   player_api_id  height  weight             birthday                 date  \\\n",
       "0         505942  182.88     187  1992-02-29 00:00:00  2016-02-18 00:00:00   \n",
       "1         505942  182.88     187  1992-02-29 00:00:00  2015-11-19 00:00:00   \n",
       "\n",
       "  preferred_foot  acceleration  sprint_speed  \n",
       "0          right          60.0          64.0  \n",
       "1          right          60.0          64.0  "
      ]
     },
     "execution_count": 6,
     "metadata": {},
     "output_type": "execute_result"
    }
   ],
   "source": [
    "df = pd.read_sql_query('SELECT Player_Attributes.player_api_id,\\\n",
    "Player.height,\\\n",
    "Player.weight,\\\n",
    "Player.birthday,\\\n",
    "Player_Attributes.date,\\\n",
    "Player_Attributes.preferred_foot,\\\n",
    "Player_Attributes.acceleration,\\\n",
    "Player_Attributes.sprint_speed \\\n",
    "FROM Player_Attributes INNER JOIN Player ON Player_Attributes.player_api_id = Player.player_api_id;', con)\n",
    "\n",
    "df.head(2)"
   ]
  },
  {
   "cell_type": "code",
   "execution_count": 7,
   "metadata": {},
   "outputs": [
    {
     "name": "stdout",
     "output_type": "stream",
     "text": [
      "<class 'pandas.core.frame.DataFrame'>\n",
      "RangeIndex: 183978 entries, 0 to 183977\n",
      "Data columns (total 8 columns):\n",
      "player_api_id     183978 non-null int64\n",
      "height            183978 non-null float64\n",
      "weight            183978 non-null int64\n",
      "birthday          183978 non-null object\n",
      "date              183978 non-null object\n",
      "preferred_foot    183142 non-null object\n",
      "acceleration      183142 non-null float64\n",
      "sprint_speed      183142 non-null float64\n",
      "dtypes: float64(3), int64(2), object(3)\n",
      "memory usage: 11.2+ MB\n"
     ]
    }
   ],
   "source": [
    "#After checking data types, it can be seen that dates are stored as objects and some values in the columns from Player_Attributes are missing. \n",
    "\n",
    "df.info()"
   ]
  },
  {
   "cell_type": "code",
   "execution_count": 8,
   "metadata": {
    "scrolled": true
   },
   "outputs": [
    {
     "data": {
      "text/plain": [
       "player_api_id       0\n",
       "height              0\n",
       "weight              0\n",
       "birthday            0\n",
       "date                0\n",
       "preferred_foot    836\n",
       "acceleration      836\n",
       "sprint_speed      836\n",
       "dtype: int64"
      ]
     },
     "execution_count": 8,
     "metadata": {},
     "output_type": "execute_result"
    }
   ],
   "source": [
    "df.isna().sum()"
   ]
  },
  {
   "cell_type": "markdown",
   "metadata": {},
   "source": [
    "\n",
    "## Data Cleaning\n",
    "\n",
    "After checking general properties of the dataframe, some irregularities can be seen, which will have to be fixed before moving to the next stage.\n"
   ]
  },
  {
   "cell_type": "markdown",
   "metadata": {},
   "source": [
    "### 1. Missing Values in some columns. "
   ]
  },
  {
   "cell_type": "markdown",
   "metadata": {},
   "source": [
    "The missing values are in columns ('preferred_foot', 'overall_rating', 'potential', 'acceleration', 'sprint_speed') from the merged table. \n",
    "However, since there is data in 'date' column for rows with NaN values, it means that we can substitute missing data with values from the nearest date the data was recorded."
   ]
  },
  {
   "cell_type": "code",
   "execution_count": 9,
   "metadata": {},
   "outputs": [],
   "source": [
    "#This is to create a list of IDs for missing values\n",
    "null_data = df[df.isnull().any(axis=1)]['player_api_id']\n",
    "\n",
    "#This is to filter original dataset by IDs for which some values are missing, and further substitute with data from the closest date recorded.\n",
    "#After checking first few lines, it seems that missing values are duplicates of the row with filled data.\n",
    "missing_values = df[df['player_api_id'].isin(null_data)]\n",
    "missing_values\n",
    "\n",
    "#This is to check whether NaN values have duplicated rows with filled data in these columns. \n",
    "missing_values.loc[missing_values.duplicated(subset = ['player_api_id', 'date'], keep = \"last\")]\n",
    "\n",
    "#The fact that there are duplicate rows for the same date of data entry, as with missing values, means that we can comfortably drop missing values without any risk of distorting final results.\n",
    "\n",
    "df.dropna(inplace = True)\n"
   ]
  },
  {
   "cell_type": "markdown",
   "metadata": {},
   "source": [
    "### 2. Fixing data types\n",
    "\n",
    "In order to find out players age at the time of data recording it is necessary to change format of \"birthday\" and \"date\" columns.\n"
   ]
  },
  {
   "cell_type": "code",
   "execution_count": 10,
   "metadata": {},
   "outputs": [
    {
     "data": {
      "text/plain": [
       "player_api_id              int64\n",
       "height                   float64\n",
       "weight                     int64\n",
       "birthday          datetime64[ns]\n",
       "date              datetime64[ns]\n",
       "preferred_foot            object\n",
       "acceleration             float64\n",
       "sprint_speed             float64\n",
       "dtype: object"
      ]
     },
     "execution_count": 10,
     "metadata": {},
     "output_type": "execute_result"
    }
   ],
   "source": [
    "df['birthday'] = pd.to_datetime(df['birthday'])\n",
    "df['date'] = pd.to_datetime(df['date'])\n",
    "df.dtypes"
   ]
  },
  {
   "cell_type": "markdown",
   "metadata": {},
   "source": [
    "### 3. Adding new columns and converting values for existing columns"
   ]
  },
  {
   "cell_type": "code",
   "execution_count": 11,
   "metadata": {
    "scrolled": true
   },
   "outputs": [
    {
     "data": {
      "text/html": [
       "<div>\n",
       "<style scoped>\n",
       "    .dataframe tbody tr th:only-of-type {\n",
       "        vertical-align: middle;\n",
       "    }\n",
       "\n",
       "    .dataframe tbody tr th {\n",
       "        vertical-align: top;\n",
       "    }\n",
       "\n",
       "    .dataframe thead th {\n",
       "        text-align: right;\n",
       "    }\n",
       "</style>\n",
       "<table border=\"1\" class=\"dataframe\">\n",
       "  <thead>\n",
       "    <tr style=\"text-align: right;\">\n",
       "      <th></th>\n",
       "      <th>player_api_id</th>\n",
       "      <th>height</th>\n",
       "      <th>weight</th>\n",
       "      <th>birthday</th>\n",
       "      <th>date</th>\n",
       "      <th>preferred_foot</th>\n",
       "      <th>acceleration</th>\n",
       "      <th>sprint_speed</th>\n",
       "    </tr>\n",
       "  </thead>\n",
       "  <tbody>\n",
       "    <tr>\n",
       "      <th>0</th>\n",
       "      <td>505942</td>\n",
       "      <td>182.88</td>\n",
       "      <td>187</td>\n",
       "      <td>1992-02-29</td>\n",
       "      <td>2016-02-18</td>\n",
       "      <td>right</td>\n",
       "      <td>60.0</td>\n",
       "      <td>64.0</td>\n",
       "    </tr>\n",
       "    <tr>\n",
       "      <th>1</th>\n",
       "      <td>505942</td>\n",
       "      <td>182.88</td>\n",
       "      <td>187</td>\n",
       "      <td>1992-02-29</td>\n",
       "      <td>2015-11-19</td>\n",
       "      <td>right</td>\n",
       "      <td>60.0</td>\n",
       "      <td>64.0</td>\n",
       "    </tr>\n",
       "    <tr>\n",
       "      <th>2</th>\n",
       "      <td>505942</td>\n",
       "      <td>182.88</td>\n",
       "      <td>187</td>\n",
       "      <td>1992-02-29</td>\n",
       "      <td>2015-09-21</td>\n",
       "      <td>right</td>\n",
       "      <td>60.0</td>\n",
       "      <td>64.0</td>\n",
       "    </tr>\n",
       "    <tr>\n",
       "      <th>3</th>\n",
       "      <td>505942</td>\n",
       "      <td>182.88</td>\n",
       "      <td>187</td>\n",
       "      <td>1992-02-29</td>\n",
       "      <td>2015-03-20</td>\n",
       "      <td>right</td>\n",
       "      <td>60.0</td>\n",
       "      <td>64.0</td>\n",
       "    </tr>\n",
       "    <tr>\n",
       "      <th>4</th>\n",
       "      <td>505942</td>\n",
       "      <td>182.88</td>\n",
       "      <td>187</td>\n",
       "      <td>1992-02-29</td>\n",
       "      <td>2007-02-22</td>\n",
       "      <td>right</td>\n",
       "      <td>60.0</td>\n",
       "      <td>64.0</td>\n",
       "    </tr>\n",
       "    <tr>\n",
       "      <th>5</th>\n",
       "      <td>155782</td>\n",
       "      <td>170.18</td>\n",
       "      <td>146</td>\n",
       "      <td>1989-12-15</td>\n",
       "      <td>2016-04-21</td>\n",
       "      <td>left</td>\n",
       "      <td>79.0</td>\n",
       "      <td>78.0</td>\n",
       "    </tr>\n",
       "    <tr>\n",
       "      <th>6</th>\n",
       "      <td>155782</td>\n",
       "      <td>170.18</td>\n",
       "      <td>146</td>\n",
       "      <td>1989-12-15</td>\n",
       "      <td>2016-04-07</td>\n",
       "      <td>left</td>\n",
       "      <td>79.0</td>\n",
       "      <td>78.0</td>\n",
       "    </tr>\n",
       "    <tr>\n",
       "      <th>7</th>\n",
       "      <td>155782</td>\n",
       "      <td>170.18</td>\n",
       "      <td>146</td>\n",
       "      <td>1989-12-15</td>\n",
       "      <td>2016-01-07</td>\n",
       "      <td>left</td>\n",
       "      <td>79.0</td>\n",
       "      <td>78.0</td>\n",
       "    </tr>\n",
       "    <tr>\n",
       "      <th>8</th>\n",
       "      <td>155782</td>\n",
       "      <td>170.18</td>\n",
       "      <td>146</td>\n",
       "      <td>1989-12-15</td>\n",
       "      <td>2015-12-24</td>\n",
       "      <td>left</td>\n",
       "      <td>79.0</td>\n",
       "      <td>78.0</td>\n",
       "    </tr>\n",
       "    <tr>\n",
       "      <th>9</th>\n",
       "      <td>155782</td>\n",
       "      <td>170.18</td>\n",
       "      <td>146</td>\n",
       "      <td>1989-12-15</td>\n",
       "      <td>2015-12-17</td>\n",
       "      <td>left</td>\n",
       "      <td>79.0</td>\n",
       "      <td>78.0</td>\n",
       "    </tr>\n",
       "    <tr>\n",
       "      <th>10</th>\n",
       "      <td>155782</td>\n",
       "      <td>170.18</td>\n",
       "      <td>146</td>\n",
       "      <td>1989-12-15</td>\n",
       "      <td>2015-10-16</td>\n",
       "      <td>left</td>\n",
       "      <td>79.0</td>\n",
       "      <td>78.0</td>\n",
       "    </tr>\n",
       "    <tr>\n",
       "      <th>11</th>\n",
       "      <td>155782</td>\n",
       "      <td>170.18</td>\n",
       "      <td>146</td>\n",
       "      <td>1989-12-15</td>\n",
       "      <td>2015-09-25</td>\n",
       "      <td>left</td>\n",
       "      <td>80.0</td>\n",
       "      <td>78.0</td>\n",
       "    </tr>\n",
       "    <tr>\n",
       "      <th>12</th>\n",
       "      <td>155782</td>\n",
       "      <td>170.18</td>\n",
       "      <td>146</td>\n",
       "      <td>1989-12-15</td>\n",
       "      <td>2015-09-21</td>\n",
       "      <td>left</td>\n",
       "      <td>79.0</td>\n",
       "      <td>78.0</td>\n",
       "    </tr>\n",
       "    <tr>\n",
       "      <th>13</th>\n",
       "      <td>155782</td>\n",
       "      <td>170.18</td>\n",
       "      <td>146</td>\n",
       "      <td>1989-12-15</td>\n",
       "      <td>2015-01-09</td>\n",
       "      <td>left</td>\n",
       "      <td>79.0</td>\n",
       "      <td>82.0</td>\n",
       "    </tr>\n",
       "    <tr>\n",
       "      <th>14</th>\n",
       "      <td>155782</td>\n",
       "      <td>170.18</td>\n",
       "      <td>146</td>\n",
       "      <td>1989-12-15</td>\n",
       "      <td>2014-12-05</td>\n",
       "      <td>left</td>\n",
       "      <td>79.0</td>\n",
       "      <td>82.0</td>\n",
       "    </tr>\n",
       "    <tr>\n",
       "      <th>15</th>\n",
       "      <td>155782</td>\n",
       "      <td>170.18</td>\n",
       "      <td>146</td>\n",
       "      <td>1989-12-15</td>\n",
       "      <td>2014-11-07</td>\n",
       "      <td>left</td>\n",
       "      <td>79.0</td>\n",
       "      <td>82.0</td>\n",
       "    </tr>\n",
       "    <tr>\n",
       "      <th>16</th>\n",
       "      <td>155782</td>\n",
       "      <td>170.18</td>\n",
       "      <td>146</td>\n",
       "      <td>1989-12-15</td>\n",
       "      <td>2014-09-18</td>\n",
       "      <td>left</td>\n",
       "      <td>79.0</td>\n",
       "      <td>82.0</td>\n",
       "    </tr>\n",
       "    <tr>\n",
       "      <th>17</th>\n",
       "      <td>155782</td>\n",
       "      <td>170.18</td>\n",
       "      <td>146</td>\n",
       "      <td>1989-12-15</td>\n",
       "      <td>2014-05-02</td>\n",
       "      <td>left</td>\n",
       "      <td>84.0</td>\n",
       "      <td>82.0</td>\n",
       "    </tr>\n",
       "    <tr>\n",
       "      <th>18</th>\n",
       "      <td>155782</td>\n",
       "      <td>170.18</td>\n",
       "      <td>146</td>\n",
       "      <td>1989-12-15</td>\n",
       "      <td>2014-04-04</td>\n",
       "      <td>left</td>\n",
       "      <td>84.0</td>\n",
       "      <td>82.0</td>\n",
       "    </tr>\n",
       "    <tr>\n",
       "      <th>19</th>\n",
       "      <td>155782</td>\n",
       "      <td>170.18</td>\n",
       "      <td>146</td>\n",
       "      <td>1989-12-15</td>\n",
       "      <td>2014-03-14</td>\n",
       "      <td>left</td>\n",
       "      <td>84.0</td>\n",
       "      <td>82.0</td>\n",
       "    </tr>\n",
       "    <tr>\n",
       "      <th>20</th>\n",
       "      <td>155782</td>\n",
       "      <td>170.18</td>\n",
       "      <td>146</td>\n",
       "      <td>1989-12-15</td>\n",
       "      <td>2013-12-13</td>\n",
       "      <td>left</td>\n",
       "      <td>84.0</td>\n",
       "      <td>82.0</td>\n",
       "    </tr>\n",
       "    <tr>\n",
       "      <th>21</th>\n",
       "      <td>155782</td>\n",
       "      <td>170.18</td>\n",
       "      <td>146</td>\n",
       "      <td>1989-12-15</td>\n",
       "      <td>2013-11-08</td>\n",
       "      <td>left</td>\n",
       "      <td>84.0</td>\n",
       "      <td>82.0</td>\n",
       "    </tr>\n",
       "    <tr>\n",
       "      <th>22</th>\n",
       "      <td>155782</td>\n",
       "      <td>170.18</td>\n",
       "      <td>146</td>\n",
       "      <td>1989-12-15</td>\n",
       "      <td>2013-10-04</td>\n",
       "      <td>left</td>\n",
       "      <td>84.0</td>\n",
       "      <td>82.0</td>\n",
       "    </tr>\n",
       "    <tr>\n",
       "      <th>23</th>\n",
       "      <td>155782</td>\n",
       "      <td>170.18</td>\n",
       "      <td>146</td>\n",
       "      <td>1989-12-15</td>\n",
       "      <td>2013-09-20</td>\n",
       "      <td>left</td>\n",
       "      <td>84.0</td>\n",
       "      <td>82.0</td>\n",
       "    </tr>\n",
       "    <tr>\n",
       "      <th>24</th>\n",
       "      <td>155782</td>\n",
       "      <td>170.18</td>\n",
       "      <td>146</td>\n",
       "      <td>1989-12-15</td>\n",
       "      <td>2013-05-03</td>\n",
       "      <td>left</td>\n",
       "      <td>84.0</td>\n",
       "      <td>81.0</td>\n",
       "    </tr>\n",
       "    <tr>\n",
       "      <th>25</th>\n",
       "      <td>155782</td>\n",
       "      <td>170.18</td>\n",
       "      <td>146</td>\n",
       "      <td>1989-12-15</td>\n",
       "      <td>2013-03-22</td>\n",
       "      <td>left</td>\n",
       "      <td>84.0</td>\n",
       "      <td>81.0</td>\n",
       "    </tr>\n",
       "    <tr>\n",
       "      <th>26</th>\n",
       "      <td>155782</td>\n",
       "      <td>170.18</td>\n",
       "      <td>146</td>\n",
       "      <td>1989-12-15</td>\n",
       "      <td>2013-03-15</td>\n",
       "      <td>left</td>\n",
       "      <td>84.0</td>\n",
       "      <td>81.0</td>\n",
       "    </tr>\n",
       "    <tr>\n",
       "      <th>27</th>\n",
       "      <td>155782</td>\n",
       "      <td>170.18</td>\n",
       "      <td>146</td>\n",
       "      <td>1989-12-15</td>\n",
       "      <td>2013-02-22</td>\n",
       "      <td>left</td>\n",
       "      <td>85.0</td>\n",
       "      <td>81.0</td>\n",
       "    </tr>\n",
       "    <tr>\n",
       "      <th>28</th>\n",
       "      <td>155782</td>\n",
       "      <td>170.18</td>\n",
       "      <td>146</td>\n",
       "      <td>1989-12-15</td>\n",
       "      <td>2013-02-15</td>\n",
       "      <td>left</td>\n",
       "      <td>85.0</td>\n",
       "      <td>81.0</td>\n",
       "    </tr>\n",
       "    <tr>\n",
       "      <th>29</th>\n",
       "      <td>155782</td>\n",
       "      <td>170.18</td>\n",
       "      <td>146</td>\n",
       "      <td>1989-12-15</td>\n",
       "      <td>2012-08-31</td>\n",
       "      <td>left</td>\n",
       "      <td>85.0</td>\n",
       "      <td>81.0</td>\n",
       "    </tr>\n",
       "    <tr>\n",
       "      <th>...</th>\n",
       "      <td>...</td>\n",
       "      <td>...</td>\n",
       "      <td>...</td>\n",
       "      <td>...</td>\n",
       "      <td>...</td>\n",
       "      <td>...</td>\n",
       "      <td>...</td>\n",
       "      <td>...</td>\n",
       "    </tr>\n",
       "    <tr>\n",
       "      <th>183948</th>\n",
       "      <td>111182</td>\n",
       "      <td>182.88</td>\n",
       "      <td>176</td>\n",
       "      <td>1986-12-18</td>\n",
       "      <td>2012-02-22</td>\n",
       "      <td>left</td>\n",
       "      <td>75.0</td>\n",
       "      <td>72.0</td>\n",
       "    </tr>\n",
       "    <tr>\n",
       "      <th>183949</th>\n",
       "      <td>111182</td>\n",
       "      <td>182.88</td>\n",
       "      <td>176</td>\n",
       "      <td>1986-12-18</td>\n",
       "      <td>2011-08-30</td>\n",
       "      <td>left</td>\n",
       "      <td>75.0</td>\n",
       "      <td>72.0</td>\n",
       "    </tr>\n",
       "    <tr>\n",
       "      <th>183950</th>\n",
       "      <td>111182</td>\n",
       "      <td>182.88</td>\n",
       "      <td>176</td>\n",
       "      <td>1986-12-18</td>\n",
       "      <td>2011-02-22</td>\n",
       "      <td>left</td>\n",
       "      <td>75.0</td>\n",
       "      <td>70.0</td>\n",
       "    </tr>\n",
       "    <tr>\n",
       "      <th>183951</th>\n",
       "      <td>111182</td>\n",
       "      <td>182.88</td>\n",
       "      <td>176</td>\n",
       "      <td>1986-12-18</td>\n",
       "      <td>2010-08-30</td>\n",
       "      <td>left</td>\n",
       "      <td>75.0</td>\n",
       "      <td>70.0</td>\n",
       "    </tr>\n",
       "    <tr>\n",
       "      <th>183952</th>\n",
       "      <td>111182</td>\n",
       "      <td>182.88</td>\n",
       "      <td>176</td>\n",
       "      <td>1986-12-18</td>\n",
       "      <td>2007-02-22</td>\n",
       "      <td>left</td>\n",
       "      <td>75.0</td>\n",
       "      <td>70.0</td>\n",
       "    </tr>\n",
       "    <tr>\n",
       "      <th>183953</th>\n",
       "      <td>36491</td>\n",
       "      <td>180.34</td>\n",
       "      <td>154</td>\n",
       "      <td>1979-04-29</td>\n",
       "      <td>2011-02-22</td>\n",
       "      <td>left</td>\n",
       "      <td>71.0</td>\n",
       "      <td>73.0</td>\n",
       "    </tr>\n",
       "    <tr>\n",
       "      <th>183954</th>\n",
       "      <td>36491</td>\n",
       "      <td>180.34</td>\n",
       "      <td>154</td>\n",
       "      <td>1979-04-29</td>\n",
       "      <td>2010-08-30</td>\n",
       "      <td>left</td>\n",
       "      <td>71.0</td>\n",
       "      <td>73.0</td>\n",
       "    </tr>\n",
       "    <tr>\n",
       "      <th>183955</th>\n",
       "      <td>36491</td>\n",
       "      <td>180.34</td>\n",
       "      <td>154</td>\n",
       "      <td>1979-04-29</td>\n",
       "      <td>2009-08-30</td>\n",
       "      <td>left</td>\n",
       "      <td>71.0</td>\n",
       "      <td>73.0</td>\n",
       "    </tr>\n",
       "    <tr>\n",
       "      <th>183956</th>\n",
       "      <td>36491</td>\n",
       "      <td>180.34</td>\n",
       "      <td>154</td>\n",
       "      <td>1979-04-29</td>\n",
       "      <td>2009-02-22</td>\n",
       "      <td>left</td>\n",
       "      <td>71.0</td>\n",
       "      <td>73.0</td>\n",
       "    </tr>\n",
       "    <tr>\n",
       "      <th>183957</th>\n",
       "      <td>36491</td>\n",
       "      <td>180.34</td>\n",
       "      <td>154</td>\n",
       "      <td>1979-04-29</td>\n",
       "      <td>2008-08-30</td>\n",
       "      <td>left</td>\n",
       "      <td>71.0</td>\n",
       "      <td>71.0</td>\n",
       "    </tr>\n",
       "    <tr>\n",
       "      <th>183958</th>\n",
       "      <td>36491</td>\n",
       "      <td>180.34</td>\n",
       "      <td>154</td>\n",
       "      <td>1979-04-29</td>\n",
       "      <td>2007-08-30</td>\n",
       "      <td>left</td>\n",
       "      <td>71.0</td>\n",
       "      <td>71.0</td>\n",
       "    </tr>\n",
       "    <tr>\n",
       "      <th>183959</th>\n",
       "      <td>36491</td>\n",
       "      <td>180.34</td>\n",
       "      <td>154</td>\n",
       "      <td>1979-04-29</td>\n",
       "      <td>2007-02-22</td>\n",
       "      <td>left</td>\n",
       "      <td>71.0</td>\n",
       "      <td>71.0</td>\n",
       "    </tr>\n",
       "    <tr>\n",
       "      <th>183960</th>\n",
       "      <td>35506</td>\n",
       "      <td>185.42</td>\n",
       "      <td>172</td>\n",
       "      <td>1981-10-06</td>\n",
       "      <td>2011-02-22</td>\n",
       "      <td>right</td>\n",
       "      <td>66.0</td>\n",
       "      <td>66.0</td>\n",
       "    </tr>\n",
       "    <tr>\n",
       "      <th>183961</th>\n",
       "      <td>35506</td>\n",
       "      <td>185.42</td>\n",
       "      <td>172</td>\n",
       "      <td>1981-10-06</td>\n",
       "      <td>2010-08-30</td>\n",
       "      <td>right</td>\n",
       "      <td>60.0</td>\n",
       "      <td>60.0</td>\n",
       "    </tr>\n",
       "    <tr>\n",
       "      <th>183962</th>\n",
       "      <td>35506</td>\n",
       "      <td>185.42</td>\n",
       "      <td>172</td>\n",
       "      <td>1981-10-06</td>\n",
       "      <td>2010-02-22</td>\n",
       "      <td>right</td>\n",
       "      <td>64.0</td>\n",
       "      <td>61.0</td>\n",
       "    </tr>\n",
       "    <tr>\n",
       "      <th>183963</th>\n",
       "      <td>35506</td>\n",
       "      <td>185.42</td>\n",
       "      <td>172</td>\n",
       "      <td>1981-10-06</td>\n",
       "      <td>2009-08-30</td>\n",
       "      <td>right</td>\n",
       "      <td>64.0</td>\n",
       "      <td>61.0</td>\n",
       "    </tr>\n",
       "    <tr>\n",
       "      <th>183964</th>\n",
       "      <td>35506</td>\n",
       "      <td>185.42</td>\n",
       "      <td>172</td>\n",
       "      <td>1981-10-06</td>\n",
       "      <td>2009-02-22</td>\n",
       "      <td>right</td>\n",
       "      <td>64.0</td>\n",
       "      <td>61.0</td>\n",
       "    </tr>\n",
       "    <tr>\n",
       "      <th>183965</th>\n",
       "      <td>35506</td>\n",
       "      <td>185.42</td>\n",
       "      <td>172</td>\n",
       "      <td>1981-10-06</td>\n",
       "      <td>2008-08-30</td>\n",
       "      <td>right</td>\n",
       "      <td>64.0</td>\n",
       "      <td>61.0</td>\n",
       "    </tr>\n",
       "    <tr>\n",
       "      <th>183966</th>\n",
       "      <td>35506</td>\n",
       "      <td>185.42</td>\n",
       "      <td>172</td>\n",
       "      <td>1981-10-06</td>\n",
       "      <td>2007-08-30</td>\n",
       "      <td>right</td>\n",
       "      <td>64.0</td>\n",
       "      <td>61.0</td>\n",
       "    </tr>\n",
       "    <tr>\n",
       "      <th>183967</th>\n",
       "      <td>35506</td>\n",
       "      <td>185.42</td>\n",
       "      <td>172</td>\n",
       "      <td>1981-10-06</td>\n",
       "      <td>2007-02-22</td>\n",
       "      <td>right</td>\n",
       "      <td>74.0</td>\n",
       "      <td>61.0</td>\n",
       "    </tr>\n",
       "    <tr>\n",
       "      <th>183968</th>\n",
       "      <td>39902</td>\n",
       "      <td>180.34</td>\n",
       "      <td>176</td>\n",
       "      <td>1982-06-05</td>\n",
       "      <td>2012-08-31</td>\n",
       "      <td>right</td>\n",
       "      <td>59.0</td>\n",
       "      <td>63.0</td>\n",
       "    </tr>\n",
       "    <tr>\n",
       "      <th>183969</th>\n",
       "      <td>39902</td>\n",
       "      <td>180.34</td>\n",
       "      <td>176</td>\n",
       "      <td>1982-06-05</td>\n",
       "      <td>2012-02-22</td>\n",
       "      <td>right</td>\n",
       "      <td>59.0</td>\n",
       "      <td>63.0</td>\n",
       "    </tr>\n",
       "    <tr>\n",
       "      <th>183970</th>\n",
       "      <td>39902</td>\n",
       "      <td>180.34</td>\n",
       "      <td>176</td>\n",
       "      <td>1982-06-05</td>\n",
       "      <td>2011-08-30</td>\n",
       "      <td>right</td>\n",
       "      <td>60.0</td>\n",
       "      <td>63.0</td>\n",
       "    </tr>\n",
       "    <tr>\n",
       "      <th>183971</th>\n",
       "      <td>39902</td>\n",
       "      <td>180.34</td>\n",
       "      <td>176</td>\n",
       "      <td>1982-06-05</td>\n",
       "      <td>2011-02-22</td>\n",
       "      <td>right</td>\n",
       "      <td>65.0</td>\n",
       "      <td>69.0</td>\n",
       "    </tr>\n",
       "    <tr>\n",
       "      <th>183972</th>\n",
       "      <td>39902</td>\n",
       "      <td>180.34</td>\n",
       "      <td>176</td>\n",
       "      <td>1982-06-05</td>\n",
       "      <td>2010-08-30</td>\n",
       "      <td>right</td>\n",
       "      <td>65.0</td>\n",
       "      <td>69.0</td>\n",
       "    </tr>\n",
       "    <tr>\n",
       "      <th>183973</th>\n",
       "      <td>39902</td>\n",
       "      <td>180.34</td>\n",
       "      <td>176</td>\n",
       "      <td>1982-06-05</td>\n",
       "      <td>2009-08-30</td>\n",
       "      <td>right</td>\n",
       "      <td>66.0</td>\n",
       "      <td>72.0</td>\n",
       "    </tr>\n",
       "    <tr>\n",
       "      <th>183974</th>\n",
       "      <td>39902</td>\n",
       "      <td>180.34</td>\n",
       "      <td>176</td>\n",
       "      <td>1982-06-05</td>\n",
       "      <td>2009-02-22</td>\n",
       "      <td>right</td>\n",
       "      <td>66.0</td>\n",
       "      <td>67.0</td>\n",
       "    </tr>\n",
       "    <tr>\n",
       "      <th>183975</th>\n",
       "      <td>39902</td>\n",
       "      <td>180.34</td>\n",
       "      <td>176</td>\n",
       "      <td>1982-06-05</td>\n",
       "      <td>2008-08-30</td>\n",
       "      <td>right</td>\n",
       "      <td>66.0</td>\n",
       "      <td>67.0</td>\n",
       "    </tr>\n",
       "    <tr>\n",
       "      <th>183976</th>\n",
       "      <td>39902</td>\n",
       "      <td>180.34</td>\n",
       "      <td>176</td>\n",
       "      <td>1982-06-05</td>\n",
       "      <td>2007-08-30</td>\n",
       "      <td>right</td>\n",
       "      <td>61.0</td>\n",
       "      <td>60.0</td>\n",
       "    </tr>\n",
       "    <tr>\n",
       "      <th>183977</th>\n",
       "      <td>39902</td>\n",
       "      <td>180.34</td>\n",
       "      <td>176</td>\n",
       "      <td>1982-06-05</td>\n",
       "      <td>2007-02-22</td>\n",
       "      <td>right</td>\n",
       "      <td>58.0</td>\n",
       "      <td>64.0</td>\n",
       "    </tr>\n",
       "  </tbody>\n",
       "</table>\n",
       "<p>183142 rows × 8 columns</p>\n",
       "</div>"
      ],
      "text/plain": [
       "        player_api_id  height  weight   birthday       date preferred_foot  \\\n",
       "0              505942  182.88     187 1992-02-29 2016-02-18          right   \n",
       "1              505942  182.88     187 1992-02-29 2015-11-19          right   \n",
       "2              505942  182.88     187 1992-02-29 2015-09-21          right   \n",
       "3              505942  182.88     187 1992-02-29 2015-03-20          right   \n",
       "4              505942  182.88     187 1992-02-29 2007-02-22          right   \n",
       "5              155782  170.18     146 1989-12-15 2016-04-21           left   \n",
       "6              155782  170.18     146 1989-12-15 2016-04-07           left   \n",
       "7              155782  170.18     146 1989-12-15 2016-01-07           left   \n",
       "8              155782  170.18     146 1989-12-15 2015-12-24           left   \n",
       "9              155782  170.18     146 1989-12-15 2015-12-17           left   \n",
       "10             155782  170.18     146 1989-12-15 2015-10-16           left   \n",
       "11             155782  170.18     146 1989-12-15 2015-09-25           left   \n",
       "12             155782  170.18     146 1989-12-15 2015-09-21           left   \n",
       "13             155782  170.18     146 1989-12-15 2015-01-09           left   \n",
       "14             155782  170.18     146 1989-12-15 2014-12-05           left   \n",
       "15             155782  170.18     146 1989-12-15 2014-11-07           left   \n",
       "16             155782  170.18     146 1989-12-15 2014-09-18           left   \n",
       "17             155782  170.18     146 1989-12-15 2014-05-02           left   \n",
       "18             155782  170.18     146 1989-12-15 2014-04-04           left   \n",
       "19             155782  170.18     146 1989-12-15 2014-03-14           left   \n",
       "20             155782  170.18     146 1989-12-15 2013-12-13           left   \n",
       "21             155782  170.18     146 1989-12-15 2013-11-08           left   \n",
       "22             155782  170.18     146 1989-12-15 2013-10-04           left   \n",
       "23             155782  170.18     146 1989-12-15 2013-09-20           left   \n",
       "24             155782  170.18     146 1989-12-15 2013-05-03           left   \n",
       "25             155782  170.18     146 1989-12-15 2013-03-22           left   \n",
       "26             155782  170.18     146 1989-12-15 2013-03-15           left   \n",
       "27             155782  170.18     146 1989-12-15 2013-02-22           left   \n",
       "28             155782  170.18     146 1989-12-15 2013-02-15           left   \n",
       "29             155782  170.18     146 1989-12-15 2012-08-31           left   \n",
       "...               ...     ...     ...        ...        ...            ...   \n",
       "183948         111182  182.88     176 1986-12-18 2012-02-22           left   \n",
       "183949         111182  182.88     176 1986-12-18 2011-08-30           left   \n",
       "183950         111182  182.88     176 1986-12-18 2011-02-22           left   \n",
       "183951         111182  182.88     176 1986-12-18 2010-08-30           left   \n",
       "183952         111182  182.88     176 1986-12-18 2007-02-22           left   \n",
       "183953          36491  180.34     154 1979-04-29 2011-02-22           left   \n",
       "183954          36491  180.34     154 1979-04-29 2010-08-30           left   \n",
       "183955          36491  180.34     154 1979-04-29 2009-08-30           left   \n",
       "183956          36491  180.34     154 1979-04-29 2009-02-22           left   \n",
       "183957          36491  180.34     154 1979-04-29 2008-08-30           left   \n",
       "183958          36491  180.34     154 1979-04-29 2007-08-30           left   \n",
       "183959          36491  180.34     154 1979-04-29 2007-02-22           left   \n",
       "183960          35506  185.42     172 1981-10-06 2011-02-22          right   \n",
       "183961          35506  185.42     172 1981-10-06 2010-08-30          right   \n",
       "183962          35506  185.42     172 1981-10-06 2010-02-22          right   \n",
       "183963          35506  185.42     172 1981-10-06 2009-08-30          right   \n",
       "183964          35506  185.42     172 1981-10-06 2009-02-22          right   \n",
       "183965          35506  185.42     172 1981-10-06 2008-08-30          right   \n",
       "183966          35506  185.42     172 1981-10-06 2007-08-30          right   \n",
       "183967          35506  185.42     172 1981-10-06 2007-02-22          right   \n",
       "183968          39902  180.34     176 1982-06-05 2012-08-31          right   \n",
       "183969          39902  180.34     176 1982-06-05 2012-02-22          right   \n",
       "183970          39902  180.34     176 1982-06-05 2011-08-30          right   \n",
       "183971          39902  180.34     176 1982-06-05 2011-02-22          right   \n",
       "183972          39902  180.34     176 1982-06-05 2010-08-30          right   \n",
       "183973          39902  180.34     176 1982-06-05 2009-08-30          right   \n",
       "183974          39902  180.34     176 1982-06-05 2009-02-22          right   \n",
       "183975          39902  180.34     176 1982-06-05 2008-08-30          right   \n",
       "183976          39902  180.34     176 1982-06-05 2007-08-30          right   \n",
       "183977          39902  180.34     176 1982-06-05 2007-02-22          right   \n",
       "\n",
       "        acceleration  sprint_speed  \n",
       "0               60.0          64.0  \n",
       "1               60.0          64.0  \n",
       "2               60.0          64.0  \n",
       "3               60.0          64.0  \n",
       "4               60.0          64.0  \n",
       "5               79.0          78.0  \n",
       "6               79.0          78.0  \n",
       "7               79.0          78.0  \n",
       "8               79.0          78.0  \n",
       "9               79.0          78.0  \n",
       "10              79.0          78.0  \n",
       "11              80.0          78.0  \n",
       "12              79.0          78.0  \n",
       "13              79.0          82.0  \n",
       "14              79.0          82.0  \n",
       "15              79.0          82.0  \n",
       "16              79.0          82.0  \n",
       "17              84.0          82.0  \n",
       "18              84.0          82.0  \n",
       "19              84.0          82.0  \n",
       "20              84.0          82.0  \n",
       "21              84.0          82.0  \n",
       "22              84.0          82.0  \n",
       "23              84.0          82.0  \n",
       "24              84.0          81.0  \n",
       "25              84.0          81.0  \n",
       "26              84.0          81.0  \n",
       "27              85.0          81.0  \n",
       "28              85.0          81.0  \n",
       "29              85.0          81.0  \n",
       "...              ...           ...  \n",
       "183948          75.0          72.0  \n",
       "183949          75.0          72.0  \n",
       "183950          75.0          70.0  \n",
       "183951          75.0          70.0  \n",
       "183952          75.0          70.0  \n",
       "183953          71.0          73.0  \n",
       "183954          71.0          73.0  \n",
       "183955          71.0          73.0  \n",
       "183956          71.0          73.0  \n",
       "183957          71.0          71.0  \n",
       "183958          71.0          71.0  \n",
       "183959          71.0          71.0  \n",
       "183960          66.0          66.0  \n",
       "183961          60.0          60.0  \n",
       "183962          64.0          61.0  \n",
       "183963          64.0          61.0  \n",
       "183964          64.0          61.0  \n",
       "183965          64.0          61.0  \n",
       "183966          64.0          61.0  \n",
       "183967          74.0          61.0  \n",
       "183968          59.0          63.0  \n",
       "183969          59.0          63.0  \n",
       "183970          60.0          63.0  \n",
       "183971          65.0          69.0  \n",
       "183972          65.0          69.0  \n",
       "183973          66.0          72.0  \n",
       "183974          66.0          67.0  \n",
       "183975          66.0          67.0  \n",
       "183976          61.0          60.0  \n",
       "183977          58.0          64.0  \n",
       "\n",
       "[183142 rows x 8 columns]"
      ]
     },
     "execution_count": 11,
     "metadata": {},
     "output_type": "execute_result"
    }
   ],
   "source": [
    "df"
   ]
  },
  {
   "cell_type": "code",
   "execution_count": 12,
   "metadata": {
    "scrolled": false
   },
   "outputs": [
    {
     "name": "stdout",
     "output_type": "stream",
     "text": [
      "<class 'pandas.core.frame.DataFrame'>\n",
      "Int64Index: 94264 entries, 0 to 183977\n",
      "Data columns (total 6 columns):\n",
      "player_id         94264 non-null int64\n",
      "height_cm         94264 non-null float64\n",
      "weight_kg         94264 non-null float64\n",
      "age               94264 non-null int64\n",
      "overall_speed     94264 non-null float64\n",
      "preferred_foot    94264 non-null object\n",
      "dtypes: float64(3), int64(2), object(1)\n",
      "memory usage: 5.0+ MB\n"
     ]
    }
   ],
   "source": [
    "# While height is recorded in metric scale, the weight recorded in imperial scale. \n",
    "# This is to convert weight to kg\n",
    "\n",
    "df['weight'] = df['weight']/2.205\n",
    "\n",
    "# There are two columns pretaining to speed - 'acceleration' and 'sprint_speed' \n",
    "# We can create additional column with aggregated data for speed\n",
    "df['overall_speed'] = df.iloc[:, -2:].mean(axis = 1)\n",
    "\n",
    "# For further analysis, it is also necessary to find out the age of the players at the time of data entry. \n",
    "df['age'] = (df['date'] - df['birthday'])// np.timedelta64(1, 'Y')\n",
    "\n",
    "#6. Some columns need renaming to make them more readable\n",
    "df.rename(columns = {'weight':'weight_kg', 'date':'data_entry_year', 'height':'height_cm', 'player_api_id':'player_id'}, inplace = True)\n",
    "\n",
    "#7. This is to limit the dataset to age group 18-35\n",
    "df  = df.query('age > 17 and age < 36')\n",
    "\n",
    "#Reshape df leaving only the columns that will be used for further investigation\n",
    "df = df[['player_id','height_cm','weight_kg','age','overall_speed','preferred_foot']]\n",
    "\n",
    "# Drop duplicated values\n",
    "df.drop_duplicates(inplace = True)\n",
    "\n",
    "df.info()"
   ]
  },
  {
   "cell_type": "code",
   "execution_count": 13,
   "metadata": {},
   "outputs": [],
   "source": [
    "#To simplify comparison based on physical attributes, let's create categories for each attribute\n",
    "\n",
    "df['speed_category'] = np.where(df['overall_speed']>df['overall_speed'].mean(), 'fast', 'slow')\n",
    "df['weight_category'] = np.where(df['weight_kg']>df['weight_kg'].mean(), 'above average weight', 'below average weight')\n",
    "df['height_category'] = np.where(df['height_cm']>df['height_cm'].mean(), 'tall', 'short')"
   ]
  },
  {
   "cell_type": "markdown",
   "metadata": {},
   "source": [
    "<a id='eda'></a>\n",
    "## Exploratory Data Analysis\n",
    "\n",
    "\n",
    "### Investigate the relationship between physical attributes and overall speed"
   ]
  },
  {
   "cell_type": "markdown",
   "metadata": {},
   "source": [
    "### 1. Descriptive statistics summary and correlation between speed and other variables"
   ]
  },
  {
   "cell_type": "code",
   "execution_count": 14,
   "metadata": {},
   "outputs": [
    {
     "data": {
      "text/html": [
       "<div>\n",
       "<style scoped>\n",
       "    .dataframe tbody tr th:only-of-type {\n",
       "        vertical-align: middle;\n",
       "    }\n",
       "\n",
       "    .dataframe tbody tr th {\n",
       "        vertical-align: top;\n",
       "    }\n",
       "\n",
       "    .dataframe thead th {\n",
       "        text-align: right;\n",
       "    }\n",
       "</style>\n",
       "<table border=\"1\" class=\"dataframe\">\n",
       "  <thead>\n",
       "    <tr style=\"text-align: right;\">\n",
       "      <th></th>\n",
       "      <th>player_id</th>\n",
       "      <th>height_cm</th>\n",
       "      <th>weight_kg</th>\n",
       "      <th>age</th>\n",
       "      <th>overall_speed</th>\n",
       "    </tr>\n",
       "  </thead>\n",
       "  <tbody>\n",
       "    <tr>\n",
       "      <th>count</th>\n",
       "      <td>94264.000000</td>\n",
       "      <td>94264.000000</td>\n",
       "      <td>94264.000000</td>\n",
       "      <td>94264.000000</td>\n",
       "      <td>94264.000000</td>\n",
       "    </tr>\n",
       "    <tr>\n",
       "      <th>mean</th>\n",
       "      <td>117442.346081</td>\n",
       "      <td>181.863828</td>\n",
       "      <td>76.627989</td>\n",
       "      <td>25.233674</td>\n",
       "      <td>67.985419</td>\n",
       "    </tr>\n",
       "    <tr>\n",
       "      <th>std</th>\n",
       "      <td>123910.697144</td>\n",
       "      <td>6.345584</td>\n",
       "      <td>6.768968</td>\n",
       "      <td>4.258183</td>\n",
       "      <td>11.912200</td>\n",
       "    </tr>\n",
       "    <tr>\n",
       "      <th>min</th>\n",
       "      <td>2625.000000</td>\n",
       "      <td>157.480000</td>\n",
       "      <td>53.061224</td>\n",
       "      <td>18.000000</td>\n",
       "      <td>15.500000</td>\n",
       "    </tr>\n",
       "    <tr>\n",
       "      <th>25%</th>\n",
       "      <td>33339.000000</td>\n",
       "      <td>177.800000</td>\n",
       "      <td>72.108844</td>\n",
       "      <td>22.000000</td>\n",
       "      <td>62.000000</td>\n",
       "    </tr>\n",
       "    <tr>\n",
       "      <th>50%</th>\n",
       "      <td>47555.000000</td>\n",
       "      <td>182.880000</td>\n",
       "      <td>76.190476</td>\n",
       "      <td>25.000000</td>\n",
       "      <td>69.500000</td>\n",
       "    </tr>\n",
       "    <tr>\n",
       "      <th>75%</th>\n",
       "      <td>172768.000000</td>\n",
       "      <td>185.420000</td>\n",
       "      <td>81.179138</td>\n",
       "      <td>28.000000</td>\n",
       "      <td>76.000000</td>\n",
       "    </tr>\n",
       "    <tr>\n",
       "      <th>max</th>\n",
       "      <td>750584.000000</td>\n",
       "      <td>208.280000</td>\n",
       "      <td>110.204082</td>\n",
       "      <td>35.000000</td>\n",
       "      <td>97.000000</td>\n",
       "    </tr>\n",
       "  </tbody>\n",
       "</table>\n",
       "</div>"
      ],
      "text/plain": [
       "           player_id     height_cm     weight_kg           age  overall_speed\n",
       "count   94264.000000  94264.000000  94264.000000  94264.000000   94264.000000\n",
       "mean   117442.346081    181.863828     76.627989     25.233674      67.985419\n",
       "std    123910.697144      6.345584      6.768968      4.258183      11.912200\n",
       "min      2625.000000    157.480000     53.061224     18.000000      15.500000\n",
       "25%     33339.000000    177.800000     72.108844     22.000000      62.000000\n",
       "50%     47555.000000    182.880000     76.190476     25.000000      69.500000\n",
       "75%    172768.000000    185.420000     81.179138     28.000000      76.000000\n",
       "max    750584.000000    208.280000    110.204082     35.000000      97.000000"
      ]
     },
     "execution_count": 14,
     "metadata": {},
     "output_type": "execute_result"
    }
   ],
   "source": [
    "# The descriptive statistics summary gives a better understanding of investigated dataset\n",
    "df.describe()"
   ]
  },
  {
   "cell_type": "code",
   "execution_count": 15,
   "metadata": {
    "scrolled": true
   },
   "outputs": [
    {
     "data": {
      "text/html": [
       "<div>\n",
       "<style scoped>\n",
       "    .dataframe tbody tr th:only-of-type {\n",
       "        vertical-align: middle;\n",
       "    }\n",
       "\n",
       "    .dataframe tbody tr th {\n",
       "        vertical-align: top;\n",
       "    }\n",
       "\n",
       "    .dataframe thead th {\n",
       "        text-align: right;\n",
       "    }\n",
       "</style>\n",
       "<table border=\"1\" class=\"dataframe\">\n",
       "  <thead>\n",
       "    <tr style=\"text-align: right;\">\n",
       "      <th></th>\n",
       "      <th>preferred_foot</th>\n",
       "      <th>speed_category</th>\n",
       "      <th>weight_category</th>\n",
       "      <th>height_category</th>\n",
       "    </tr>\n",
       "  </thead>\n",
       "  <tbody>\n",
       "    <tr>\n",
       "      <th>count</th>\n",
       "      <td>94264</td>\n",
       "      <td>94264</td>\n",
       "      <td>94264</td>\n",
       "      <td>94264</td>\n",
       "    </tr>\n",
       "    <tr>\n",
       "      <th>unique</th>\n",
       "      <td>2</td>\n",
       "      <td>2</td>\n",
       "      <td>2</td>\n",
       "      <td>2</td>\n",
       "    </tr>\n",
       "    <tr>\n",
       "      <th>top</th>\n",
       "      <td>right</td>\n",
       "      <td>fast</td>\n",
       "      <td>below average weight</td>\n",
       "      <td>tall</td>\n",
       "    </tr>\n",
       "    <tr>\n",
       "      <th>freq</th>\n",
       "      <td>70878</td>\n",
       "      <td>53187</td>\n",
       "      <td>47907</td>\n",
       "      <td>50309</td>\n",
       "    </tr>\n",
       "  </tbody>\n",
       "</table>\n",
       "</div>"
      ],
      "text/plain": [
       "       preferred_foot speed_category       weight_category height_category\n",
       "count           94264          94264                 94264           94264\n",
       "unique              2              2                     2               2\n",
       "top             right           fast  below average weight            tall\n",
       "freq            70878          53187                 47907           50309"
      ]
     },
     "execution_count": 15,
     "metadata": {},
     "output_type": "execute_result"
    }
   ],
   "source": [
    "# This is to check stats for string values\n",
    "df.describe(include=['object', 'bool'])"
   ]
  },
  {
   "cell_type": "code",
   "execution_count": 16,
   "metadata": {},
   "outputs": [
    {
     "data": {
      "text/html": [
       "<div>\n",
       "<style scoped>\n",
       "    .dataframe tbody tr th:only-of-type {\n",
       "        vertical-align: middle;\n",
       "    }\n",
       "\n",
       "    .dataframe tbody tr th {\n",
       "        vertical-align: top;\n",
       "    }\n",
       "\n",
       "    .dataframe thead th {\n",
       "        text-align: right;\n",
       "    }\n",
       "</style>\n",
       "<table border=\"1\" class=\"dataframe\">\n",
       "  <thead>\n",
       "    <tr style=\"text-align: right;\">\n",
       "      <th></th>\n",
       "      <th>player_id</th>\n",
       "      <th>height_cm</th>\n",
       "      <th>weight_kg</th>\n",
       "      <th>age</th>\n",
       "      <th>overall_speed</th>\n",
       "    </tr>\n",
       "  </thead>\n",
       "  <tbody>\n",
       "    <tr>\n",
       "      <th>player_id</th>\n",
       "      <td>1.000000</td>\n",
       "      <td>-0.048257</td>\n",
       "      <td>-0.135395</td>\n",
       "      <td>-0.538307</td>\n",
       "      <td>0.073864</td>\n",
       "    </tr>\n",
       "    <tr>\n",
       "      <th>height_cm</th>\n",
       "      <td>-0.048257</td>\n",
       "      <td>1.000000</td>\n",
       "      <td>0.762374</td>\n",
       "      <td>0.038156</td>\n",
       "      <td>-0.463902</td>\n",
       "    </tr>\n",
       "    <tr>\n",
       "      <th>weight_kg</th>\n",
       "      <td>-0.135395</td>\n",
       "      <td>0.762374</td>\n",
       "      <td>1.000000</td>\n",
       "      <td>0.117163</td>\n",
       "      <td>-0.405407</td>\n",
       "    </tr>\n",
       "    <tr>\n",
       "      <th>age</th>\n",
       "      <td>-0.538307</td>\n",
       "      <td>0.038156</td>\n",
       "      <td>0.117163</td>\n",
       "      <td>1.000000</td>\n",
       "      <td>-0.186450</td>\n",
       "    </tr>\n",
       "    <tr>\n",
       "      <th>overall_speed</th>\n",
       "      <td>0.073864</td>\n",
       "      <td>-0.463902</td>\n",
       "      <td>-0.405407</td>\n",
       "      <td>-0.186450</td>\n",
       "      <td>1.000000</td>\n",
       "    </tr>\n",
       "  </tbody>\n",
       "</table>\n",
       "</div>"
      ],
      "text/plain": [
       "               player_id  height_cm  weight_kg       age  overall_speed\n",
       "player_id       1.000000  -0.048257  -0.135395 -0.538307       0.073864\n",
       "height_cm      -0.048257   1.000000   0.762374  0.038156      -0.463902\n",
       "weight_kg      -0.135395   0.762374   1.000000  0.117163      -0.405407\n",
       "age            -0.538307   0.038156   0.117163  1.000000      -0.186450\n",
       "overall_speed   0.073864  -0.463902  -0.405407 -0.186450       1.000000"
      ]
     },
     "execution_count": 16,
     "metadata": {},
     "output_type": "execute_result"
    }
   ],
   "source": [
    "# Although there is some level of inverse correlation between speed and age, weight and height, \n",
    "# it would be incorrect to assume that there is some apparent relationship between speed and \n",
    "# any other variables to make an assumption regarding statistical significance without further analysis.\n",
    "df_corr = df.corr()\n",
    "df_corr"
   ]
  },
  {
   "cell_type": "code",
   "execution_count": 17,
   "metadata": {},
   "outputs": [
    {
     "data": {
      "text/plain": [
       "Text(0.5,1,'Correlation Map')"
      ]
     },
     "execution_count": 17,
     "metadata": {},
     "output_type": "execute_result"
    },
    {
     "data": {
      "image/png": "[encoded data removed]",
      "text/plain": [
       "<matplotlib.figure.Figure at 0x7f5d1e13fef0>"
      ]
     },
     "metadata": {},
     "output_type": "display_data"
    }
   ],
   "source": [
    "sns.set(rc={'figure.figsize':(14, 6)})\n",
    "sns.heatmap(df_corr, cmap=\"BuGn_r\", linewidths=0.1).set_title('Correlation Map')"
   ]
  },
  {
   "cell_type": "markdown",
   "metadata": {},
   "source": [
    "### 2. Evolution of speed by age\n",
    "\n",
    "The relationship of age and average speed is visible in the graph below. \n",
    "\n",
    "From this we can assume that peak age for overall speed is reached at about 24 after followed by a gradual decline."
   ]
  },
  {
   "cell_type": "code",
   "execution_count": 18,
   "metadata": {
    "scrolled": false
   },
   "outputs": [
    {
     "data": {
      "text/html": [
       "<div>\n",
       "<style scoped>\n",
       "    .dataframe tbody tr th:only-of-type {\n",
       "        vertical-align: middle;\n",
       "    }\n",
       "\n",
       "    .dataframe tbody tr th {\n",
       "        vertical-align: top;\n",
       "    }\n",
       "\n",
       "    .dataframe thead th {\n",
       "        text-align: right;\n",
       "    }\n",
       "</style>\n",
       "<table border=\"1\" class=\"dataframe\">\n",
       "  <thead>\n",
       "    <tr style=\"text-align: right;\">\n",
       "      <th></th>\n",
       "      <th>count</th>\n",
       "      <th>mean</th>\n",
       "      <th>std</th>\n",
       "      <th>min</th>\n",
       "      <th>25%</th>\n",
       "      <th>50%</th>\n",
       "      <th>75%</th>\n",
       "      <th>max</th>\n",
       "    </tr>\n",
       "    <tr>\n",
       "      <th>age</th>\n",
       "      <th></th>\n",
       "      <th></th>\n",
       "      <th></th>\n",
       "      <th></th>\n",
       "      <th></th>\n",
       "      <th></th>\n",
       "      <th></th>\n",
       "      <th></th>\n",
       "    </tr>\n",
       "  </thead>\n",
       "  <tbody>\n",
       "    <tr>\n",
       "      <th>18</th>\n",
       "      <td>3235.0</td>\n",
       "      <td>67.185008</td>\n",
       "      <td>10.450017</td>\n",
       "      <td>16.5</td>\n",
       "      <td>62.000</td>\n",
       "      <td>67.5</td>\n",
       "      <td>74.000</td>\n",
       "      <td>95.0</td>\n",
       "    </tr>\n",
       "    <tr>\n",
       "      <th>19</th>\n",
       "      <td>4998.0</td>\n",
       "      <td>68.171469</td>\n",
       "      <td>10.595011</td>\n",
       "      <td>16.5</td>\n",
       "      <td>62.500</td>\n",
       "      <td>68.5</td>\n",
       "      <td>75.000</td>\n",
       "      <td>96.0</td>\n",
       "    </tr>\n",
       "    <tr>\n",
       "      <th>20</th>\n",
       "      <td>6189.0</td>\n",
       "      <td>68.922685</td>\n",
       "      <td>10.687420</td>\n",
       "      <td>16.5</td>\n",
       "      <td>63.500</td>\n",
       "      <td>70.0</td>\n",
       "      <td>76.000</td>\n",
       "      <td>95.5</td>\n",
       "    </tr>\n",
       "    <tr>\n",
       "      <th>21</th>\n",
       "      <td>6891.0</td>\n",
       "      <td>69.691337</td>\n",
       "      <td>10.870300</td>\n",
       "      <td>20.5</td>\n",
       "      <td>64.000</td>\n",
       "      <td>71.0</td>\n",
       "      <td>77.000</td>\n",
       "      <td>96.0</td>\n",
       "    </tr>\n",
       "    <tr>\n",
       "      <th>22</th>\n",
       "      <td>7300.0</td>\n",
       "      <td>69.831370</td>\n",
       "      <td>11.095791</td>\n",
       "      <td>16.5</td>\n",
       "      <td>64.500</td>\n",
       "      <td>71.0</td>\n",
       "      <td>77.000</td>\n",
       "      <td>97.0</td>\n",
       "    </tr>\n",
       "    <tr>\n",
       "      <th>23</th>\n",
       "      <td>7576.0</td>\n",
       "      <td>70.194694</td>\n",
       "      <td>11.258656</td>\n",
       "      <td>16.0</td>\n",
       "      <td>64.500</td>\n",
       "      <td>71.5</td>\n",
       "      <td>77.500</td>\n",
       "      <td>97.0</td>\n",
       "    </tr>\n",
       "    <tr>\n",
       "      <th>24</th>\n",
       "      <td>7588.0</td>\n",
       "      <td>70.277939</td>\n",
       "      <td>11.314462</td>\n",
       "      <td>16.5</td>\n",
       "      <td>64.500</td>\n",
       "      <td>71.5</td>\n",
       "      <td>77.625</td>\n",
       "      <td>97.0</td>\n",
       "    </tr>\n",
       "    <tr>\n",
       "      <th>25</th>\n",
       "      <td>7502.0</td>\n",
       "      <td>70.076713</td>\n",
       "      <td>11.512388</td>\n",
       "      <td>16.0</td>\n",
       "      <td>64.500</td>\n",
       "      <td>71.5</td>\n",
       "      <td>78.000</td>\n",
       "      <td>96.5</td>\n",
       "    </tr>\n",
       "    <tr>\n",
       "      <th>26</th>\n",
       "      <td>7259.0</td>\n",
       "      <td>69.605386</td>\n",
       "      <td>11.594439</td>\n",
       "      <td>16.0</td>\n",
       "      <td>64.000</td>\n",
       "      <td>71.0</td>\n",
       "      <td>77.500</td>\n",
       "      <td>96.5</td>\n",
       "    </tr>\n",
       "    <tr>\n",
       "      <th>27</th>\n",
       "      <td>6883.0</td>\n",
       "      <td>69.062545</td>\n",
       "      <td>11.537918</td>\n",
       "      <td>21.5</td>\n",
       "      <td>63.000</td>\n",
       "      <td>70.5</td>\n",
       "      <td>77.000</td>\n",
       "      <td>95.5</td>\n",
       "    </tr>\n",
       "    <tr>\n",
       "      <th>28</th>\n",
       "      <td>6207.0</td>\n",
       "      <td>68.338247</td>\n",
       "      <td>11.704332</td>\n",
       "      <td>17.5</td>\n",
       "      <td>62.500</td>\n",
       "      <td>70.0</td>\n",
       "      <td>76.000</td>\n",
       "      <td>95.0</td>\n",
       "    </tr>\n",
       "    <tr>\n",
       "      <th>29</th>\n",
       "      <td>5470.0</td>\n",
       "      <td>67.523857</td>\n",
       "      <td>11.608966</td>\n",
       "      <td>17.5</td>\n",
       "      <td>61.500</td>\n",
       "      <td>69.0</td>\n",
       "      <td>75.500</td>\n",
       "      <td>94.0</td>\n",
       "    </tr>\n",
       "    <tr>\n",
       "      <th>30</th>\n",
       "      <td>4684.0</td>\n",
       "      <td>65.889944</td>\n",
       "      <td>12.059089</td>\n",
       "      <td>21.0</td>\n",
       "      <td>59.375</td>\n",
       "      <td>68.0</td>\n",
       "      <td>74.000</td>\n",
       "      <td>93.5</td>\n",
       "    </tr>\n",
       "    <tr>\n",
       "      <th>31</th>\n",
       "      <td>3905.0</td>\n",
       "      <td>64.345070</td>\n",
       "      <td>12.110597</td>\n",
       "      <td>15.5</td>\n",
       "      <td>56.500</td>\n",
       "      <td>66.5</td>\n",
       "      <td>73.000</td>\n",
       "      <td>93.0</td>\n",
       "    </tr>\n",
       "    <tr>\n",
       "      <th>32</th>\n",
       "      <td>3209.0</td>\n",
       "      <td>62.313026</td>\n",
       "      <td>12.513183</td>\n",
       "      <td>17.5</td>\n",
       "      <td>54.000</td>\n",
       "      <td>64.5</td>\n",
       "      <td>71.500</td>\n",
       "      <td>92.5</td>\n",
       "    </tr>\n",
       "    <tr>\n",
       "      <th>33</th>\n",
       "      <td>2457.0</td>\n",
       "      <td>59.836589</td>\n",
       "      <td>12.777102</td>\n",
       "      <td>20.0</td>\n",
       "      <td>52.000</td>\n",
       "      <td>61.5</td>\n",
       "      <td>69.500</td>\n",
       "      <td>92.0</td>\n",
       "    </tr>\n",
       "    <tr>\n",
       "      <th>34</th>\n",
       "      <td>1796.0</td>\n",
       "      <td>56.873608</td>\n",
       "      <td>13.153567</td>\n",
       "      <td>21.0</td>\n",
       "      <td>48.500</td>\n",
       "      <td>58.0</td>\n",
       "      <td>66.500</td>\n",
       "      <td>91.0</td>\n",
       "    </tr>\n",
       "    <tr>\n",
       "      <th>35</th>\n",
       "      <td>1115.0</td>\n",
       "      <td>53.796413</td>\n",
       "      <td>13.196325</td>\n",
       "      <td>21.0</td>\n",
       "      <td>44.500</td>\n",
       "      <td>54.0</td>\n",
       "      <td>63.000</td>\n",
       "      <td>90.0</td>\n",
       "    </tr>\n",
       "  </tbody>\n",
       "</table>\n",
       "</div>"
      ],
      "text/plain": [
       "      count       mean        std   min     25%   50%     75%   max\n",
       "age                                                                \n",
       "18   3235.0  67.185008  10.450017  16.5  62.000  67.5  74.000  95.0\n",
       "19   4998.0  68.171469  10.595011  16.5  62.500  68.5  75.000  96.0\n",
       "20   6189.0  68.922685  10.687420  16.5  63.500  70.0  76.000  95.5\n",
       "21   6891.0  69.691337  10.870300  20.5  64.000  71.0  77.000  96.0\n",
       "22   7300.0  69.831370  11.095791  16.5  64.500  71.0  77.000  97.0\n",
       "23   7576.0  70.194694  11.258656  16.0  64.500  71.5  77.500  97.0\n",
       "24   7588.0  70.277939  11.314462  16.5  64.500  71.5  77.625  97.0\n",
       "25   7502.0  70.076713  11.512388  16.0  64.500  71.5  78.000  96.5\n",
       "26   7259.0  69.605386  11.594439  16.0  64.000  71.0  77.500  96.5\n",
       "27   6883.0  69.062545  11.537918  21.5  63.000  70.5  77.000  95.5\n",
       "28   6207.0  68.338247  11.704332  17.5  62.500  70.0  76.000  95.0\n",
       "29   5470.0  67.523857  11.608966  17.5  61.500  69.0  75.500  94.0\n",
       "30   4684.0  65.889944  12.059089  21.0  59.375  68.0  74.000  93.5\n",
       "31   3905.0  64.345070  12.110597  15.5  56.500  66.5  73.000  93.0\n",
       "32   3209.0  62.313026  12.513183  17.5  54.000  64.5  71.500  92.5\n",
       "33   2457.0  59.836589  12.777102  20.0  52.000  61.5  69.500  92.0\n",
       "34   1796.0  56.873608  13.153567  21.0  48.500  58.0  66.500  91.0\n",
       "35   1115.0  53.796413  13.196325  21.0  44.500  54.0  63.000  90.0"
      ]
     },
     "execution_count": 18,
     "metadata": {},
     "output_type": "execute_result"
    }
   ],
   "source": [
    "# It seems that speed increases up to 24 year of age and then begins to decline\n",
    "df.groupby('age')['overall_speed'].describe()"
   ]
  },
  {
   "cell_type": "code",
   "execution_count": 19,
   "metadata": {},
   "outputs": [
    {
     "data": {
      "text/plain": [
       "<matplotlib.axes._subplots.AxesSubplot at 0x7f5d1bedc630>"
      ]
     },
     "execution_count": 19,
     "metadata": {},
     "output_type": "execute_result"
    },
    {
     "data": {
      "image/png": "[encoded data removed]",
      "text/plain": [
       "<matplotlib.figure.Figure at 0x7f5d1b79de80>"
      ]
     },
     "metadata": {},
     "output_type": "display_data"
    }
   ],
   "source": [
    "xt = np.arange(18, 35, step=2)\n",
    "df_groupped_age = df.groupby('age', as_index = False)[['overall_speed']].mean()\n",
    "df_groupped_age.plot(x = 'age', y = 'overall_speed', kind = \"line\", title = 'Overall Speed Evolution By Age', xticks = xt)"
   ]
  },
  {
   "cell_type": "markdown",
   "metadata": {},
   "source": [
    "### 2.1 Speed evolution by age depending on weight and height category\n",
    "It is important to check whether speed evolution pattern is the same for different weight and height categories.\n",
    "\n",
    "It seems that the trend is similar for both taller and shorter players.\n",
    "Comparison of overall speed change by weight categories yields the same result, indicating that speed declines with age regardless of weight or height."
   ]
  },
  {
   "cell_type": "code",
   "execution_count": 24,
   "metadata": {
    "scrolled": true
   },
   "outputs": [
    {
     "data": {
      "text/plain": [
       "Text(0.5,1,'Overall Speed By Age and Height Category')"
      ]
     },
     "execution_count": 24,
     "metadata": {},
     "output_type": "execute_result"
    },
    {
     "data": {
      "image/png": "[encoded data removed]",
      "text/plain": [
       "<matplotlib.figure.Figure at 0x7f5d1bedc048>"
      ]
     },
     "metadata": {},
     "output_type": "display_data"
    }
   ],
   "source": [
    "sns.barplot(x = \"age\", y = 'overall_speed', hue = 'height_category', data = df).set_title(\"Overall Speed By Age and Height Category\")"
   ]
  },
  {
   "cell_type": "code",
   "execution_count": 20,
   "metadata": {},
   "outputs": [
    {
     "data": {
      "text/plain": [
       "Text(0.5,1,'Overall Speed By Age and Weight Category')"
      ]
     },
     "execution_count": 20,
     "metadata": {},
     "output_type": "execute_result"
    },
    {
     "data": {
      "image/png": "[encoded data removed]",
      "text/plain": [
       "<matplotlib.figure.Figure at 0x7f4651363f28>"
      ]
     },
     "metadata": {},
     "output_type": "display_data"
    }
   ],
   "source": [
    "sns.barplot(x = \"age\", y = 'overall_speed', hue = 'weight_category', data = df).set_title(\"Overall Speed By Age and Weight Category\")"
   ]
  },
  {
   "cell_type": "markdown",
   "metadata": {},
   "source": [
    "### 3. Investigate relationship between weight and overall speed"
   ]
  },
  {
   "cell_type": "markdown",
   "metadata": {},
   "source": [
    "First, we investigate the distribution of fast and slow players by weight.\n",
    "\n",
    "It can be seen that there are significantly more fast players with the weight below 80kg.\n",
    "\n",
    "On the other hand, there is larger amount of slow players with the weight above 80kg."
   ]
  },
  {
   "cell_type": "code",
   "execution_count": 36,
   "metadata": {},
   "outputs": [
    {
     "data": {
      "text/plain": [
       "<matplotlib.legend.Legend at 0x7f464eb1ee10>"
      ]
     },
     "execution_count": 36,
     "metadata": {},
     "output_type": "execute_result"
    },
    {
     "data": {
      "image/png": "[encoded data removed]",
      "text/plain": [
       "<matplotlib.figure.Figure at 0x7f464ea2d550>"
      ]
     },
     "metadata": {},
     "output_type": "display_data"
    }
   ],
   "source": [
    "df[df['overall_speed'] <= df['overall_speed'].mean()]['weight_kg'].hist(alpha = 0.5, label = 'slow', bins = 15)\n",
    "df[df['overall_speed'] > df['overall_speed'].mean()]['weight_kg'].hist(alpha = 0.5, label = 'fast', bins = 15)\n",
    "plt.suptitle(\"Distribution by Weight for Slow and Fast groups\")\n",
    "plt.xlabel(\"weight_kg\")\n",
    "plt.ylabel(\"frequency\")\n",
    "plt.legend()"
   ]
  },
  {
   "cell_type": "markdown",
   "metadata": {},
   "source": [
    "The decline of average overall speed associated with weight increase can be seen in the graph below. "
   ]
  },
  {
   "cell_type": "code",
   "execution_count": 22,
   "metadata": {
    "scrolled": false
   },
   "outputs": [
    {
     "data": {
      "text/plain": [
       "<matplotlib.axes._subplots.AxesSubplot at 0x7f464b130e10>"
      ]
     },
     "execution_count": 22,
     "metadata": {},
     "output_type": "execute_result"
    },
    {
     "data": {
      "image/png": "[encoded data removed]",
      "text/plain": [
       "<matplotlib.figure.Figure at 0x7f464ab91a58>"
      ]
     },
     "metadata": {},
     "output_type": "display_data"
    }
   ],
   "source": [
    "df.groupby(by = 'weight_kg', as_index = False)['overall_speed'].mean().plot(x = 'weight_kg', y = 'overall_speed', kind = 'line', title = \"Overall Speed by Weight\")"
   ]
  },
  {
   "cell_type": "markdown",
   "metadata": {},
   "source": [
    "The significance in difference in speed between two weight groups is visible in the plot below. \n",
    "The median speed for players with weight below or equal to the mean is higher than upper quartile of the group with the weight above average."
   ]
  },
  {
   "cell_type": "code",
   "execution_count": 23,
   "metadata": {
    "scrolled": true
   },
   "outputs": [
    {
     "data": {
      "text/plain": [
       "Text(0.5,1,'Boxplot - Overall Speed by Weight Category')"
      ]
     },
     "execution_count": 23,
     "metadata": {},
     "output_type": "execute_result"
    },
    {
     "data": {
      "image/png": "[encoded data removed]",
      "text/plain": [
       "<matplotlib.figure.Figure at 0x7f465216ccc0>"
      ]
     },
     "metadata": {},
     "output_type": "display_data"
    }
   ],
   "source": [
    "sns.boxplot(x = 'weight_category', y = 'overall_speed', data = df, width = 0.5, fliersize = 1).set_title('Boxplot - Overall Speed by Weight Category')"
   ]
  },
  {
   "cell_type": "markdown",
   "metadata": {},
   "source": [
    "From the histogram below we can see that there are much more slow players concentrated around the mark of 190cm.\n",
    "Similarly, there are more fast players with the height below 180cm."
   ]
  },
  {
   "cell_type": "code",
   "execution_count": 35,
   "metadata": {},
   "outputs": [
    {
     "data": {
      "text/plain": [
       "<matplotlib.legend.Legend at 0x7f464ec22550>"
      ]
     },
     "execution_count": 35,
     "metadata": {},
     "output_type": "execute_result"
    },
    {
     "data": {
      "image/png": "[encoded data removed]",
      "text/plain": [
       "<matplotlib.figure.Figure at 0x7f464eee05f8>"
      ]
     },
     "metadata": {},
     "output_type": "display_data"
    }
   ],
   "source": [
    "df[df['overall_speed'] <= df['overall_speed'].mean()]['height_cm'].hist(alpha = 0.5, label = 'slow', bins = 15)\n",
    "df[df['overall_speed'] > df['overall_speed'].mean()]['height_cm'].hist(alpha = 0.5, label = 'fast', bins = 15)\n",
    "plt.suptitle(\"Distribution by Height for Slow and Fast groups\")\n",
    "plt.xlabel(\"height_cm\")\n",
    "plt.ylabel(\"frequency\")\n",
    "plt.legend()"
   ]
  },
  {
   "cell_type": "markdown",
   "metadata": {},
   "source": [
    "The dependence of average speed and the height has a downward slope."
   ]
  },
  {
   "cell_type": "code",
   "execution_count": 25,
   "metadata": {
    "scrolled": true
   },
   "outputs": [
    {
     "data": {
      "text/plain": [
       "<matplotlib.axes._subplots.AxesSubplot at 0x7f46516abef0>"
      ]
     },
     "execution_count": 25,
     "metadata": {},
     "output_type": "execute_result"
    },
    {
     "data": {
      "image/png": "[encoded data removed]",
      "text/plain": [
       "<matplotlib.figure.Figure at 0x7f46518a4550>"
      ]
     },
     "metadata": {},
     "output_type": "display_data"
    }
   ],
   "source": [
    "df.groupby(by = 'height_cm', as_index = False)['overall_speed'].mean().plot(x = 'height_cm', y = 'overall_speed', kind = 'line', title = 'Overall Speed by Height')"
   ]
  },
  {
   "cell_type": "markdown",
   "metadata": {},
   "source": [
    "The difference between two groups is apparent with tall players showing lower average speed"
   ]
  },
  {
   "cell_type": "code",
   "execution_count": 26,
   "metadata": {},
   "outputs": [
    {
     "data": {
      "text/plain": [
       "Text(0.5,1,'Overall Speed by Height Category')"
      ]
     },
     "execution_count": 26,
     "metadata": {},
     "output_type": "execute_result"
    },
    {
     "data": {
      "image/png": "[encoded data removed]",
      "text/plain": [
       "<matplotlib.figure.Figure at 0x7f46513001d0>"
      ]
     },
     "metadata": {},
     "output_type": "display_data"
    }
   ],
   "source": [
    "sns.boxplot(x = 'height_category', y = 'overall_speed', data = df, width = 0.5, fliersize = 1).set_title(\"Overall Speed by Height Category\")"
   ]
  },
  {
   "cell_type": "markdown",
   "metadata": {},
   "source": [
    "The graph below shows average speed for short and tall players detailed by weight category."
   ]
  },
  {
   "cell_type": "code",
   "execution_count": 27,
   "metadata": {
    "scrolled": true
   },
   "outputs": [
    {
     "data": {
      "text/plain": [
       "Text(0.5,1,'Average Speed by Weight and Height categories')"
      ]
     },
     "execution_count": 27,
     "metadata": {},
     "output_type": "execute_result"
    },
    {
     "data": {
      "image/png": "[encoded data removed]",
      "text/plain": [
       "<matplotlib.figure.Figure at 0x7f464b22d828>"
      ]
     },
     "metadata": {},
     "output_type": "display_data"
    }
   ],
   "source": [
    "sns.barplot(x = \"height_category\", y = 'overall_speed', hue = \"weight_category\", data = df).set_title('Average Speed by Weight and Height categories')"
   ]
  },
  {
   "cell_type": "code",
   "execution_count": 32,
   "metadata": {},
   "outputs": [
    {
     "data": {
      "text/plain": [
       "Text(0.5,0.98,'Distribution by Height for Slow and Fast Groups')"
      ]
     },
     "execution_count": 32,
     "metadata": {},
     "output_type": "execute_result"
    },
    {
     "data": {
      "image/png": "[encoded data removed]",
      "text/plain": [
       "<matplotlib.figure.Figure at 0x7f464f311b70>"
      ]
     },
     "metadata": {},
     "output_type": "display_data"
    }
   ],
   "source": [
    "df[df['overall_speed'] <= df['overall_speed'].mean()]['height_cm'].hist(alpha = 0.5, label = 'slow', bins = 15)\n",
    "df[df['overall_speed'] > df['overall_speed'].mean()]['height_cm'].hist(alpha = 0.5, label = 'fast', bins = 15)\n",
    "plt.legend()\n",
    "plt.xlabel(\"height_cm\")\n",
    "plt.ylabel(\"frequency\")\n",
    "plt.suptitle(\"Distribution by Height for Slow and Fast Groups\")\n"
   ]
  },
  {
   "cell_type": "markdown",
   "metadata": {},
   "source": [
    "Finally, we can see that there is no significant difference in speed between righ and left footed players."
   ]
  },
  {
   "cell_type": "code",
   "execution_count": 34,
   "metadata": {
    "scrolled": false
   },
   "outputs": [
    {
     "data": {
      "text/plain": [
       "Text(0,0.5,'overall_speed')"
      ]
     },
     "execution_count": 34,
     "metadata": {},
     "output_type": "execute_result"
    },
    {
     "data": {
      "image/png": "[encoded data removed]",
      "text/plain": [
       "<matplotlib.figure.Figure at 0x7f464f270f28>"
      ]
     },
     "metadata": {},
     "output_type": "display_data"
    }
   ],
   "source": [
    "df.groupby('preferred_foot').overall_speed.mean().plot(kind = 'bar', title = 'Speed Difference by Preferred Foot')\n",
    "plt.ylabel(\"overall_speed\")"
   ]
  },
  {
   "cell_type": "markdown",
   "metadata": {},
   "source": [
    "<a id='conclusions'></a>\n",
    "## Conclusions\n",
    "\n",
    "From the analysis conducted above, we can make following conclusions:\n",
    "1. Overall Speed for players increases from age 18 to 24, and then starts to decline.\n",
    "2. The decline of speed after the age of 24 is relevant for all groups of players regardless of weight or height category.\n",
    "3. Shorter players tend to have higher overall speed, while taller players are at disadvantage on average when it comes to overall speed, especially those above 190cm.\n",
    "4. Weight has also shown inverse relationship with the speed.\n",
    "5. Shorter players of both weight categories have higher overall speed than the tall players on average.\n",
    "\n",
    "It is also important to address limitation imposed on this analysis by dataset content and the scope of research.\n",
    "\n",
    "1. The dataset provides frequently updated speed ratings, but weight and height are constant for each id, which distorts final conclusion on relationship between speed and those parameters, as speed changes throughout time do not have corresponding physical parameters.\n",
    "\n",
    "2. The data covers only 11 European leagues, which leaves very limited amount of players consistently present from Y1  to Y10. For example, faster players from outside these 11 leagues may be brought in at the certain age, thus increasing average overall speed for this particular age.\n",
    "\n",
    "3. The dataset does not contain information regarding players positions, which may be better explanation of speed differences. For example, if players in the positions associated with lower speed requirements, such as GK, tend to have a longer career, the average speed will be brought down towards the upper limits of studied age group.\n",
    "\n",
    "\n",
    "\n",
    "## Submitting your Project \n",
    "\n",
    "> Before you submit your project, you need to create a .html or .pdf version of this notebook in the workspace here. To do that, run the code cell below. If it worked correctly, you should get a return code of 0, and you should see the generated .html file in the workspace directory (click on the orange Jupyter icon in the upper left).\n",
    "\n",
    "> Alternatively, you can download this report as .html via the **File** > **Download as** submenu, and then manually upload it into the workspace directory by clicking on the orange Jupyter icon in the upper left, then using the Upload button.\n",
    "\n",
    "> Once you've done this, you can submit your project by clicking on the \"Submit Project\" button in the lower right here. This will create and submit a zip file with this .ipynb doc and the .html or .pdf version you created. Congratulations!"
   ]
  },
  {
   "cell_type": "code",
   "execution_count": 25,
   "metadata": {},
   "outputs": [
    {
     "data": {
      "text/plain": [
       "0"
      ]
     },
     "execution_count": 25,
     "metadata": {},
     "output_type": "execute_result"
    }
   ],
   "source": [
    "from subprocess import call\n",
    "call(['python', '-m', 'nbconvert', 'Investigate_a_Dataset.ipynb'])"
   ]
  },
  {
   "cell_type": "code",
   "execution_count": null,
   "metadata": {},
   "outputs": [],
   "source": []
  }
 ],
 "metadata": {
  "kernelspec": {
   "display_name": "Python 3",
   "language": "python",
   "name": "python3"
  },
  "language_info": {
   "codemirror_mode": {
    "name": "ipython",
    "version": 3
   },
   "file_extension": ".py",
   "mimetype": "text/x-python",
   "name": "python",
   "nbconvert_exporter": "python",
   "pygments_lexer": "ipython3",
   "version": "3.6.3"
  }
 },
 "nbformat": 4,
 "nbformat_minor": 2
}
